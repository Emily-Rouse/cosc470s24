{
  "nbformat": 4,
  "nbformat_minor": 0,
  "metadata": {
    "colab": {
      "provenance": [],
      "include_colab_link": true
    },
    "kernelspec": {
      "name": "python3",
      "display_name": "Python 3"
    },
    "language_info": {
      "name": "python"
    }
  },
  "cells": [
    {
      "cell_type": "markdown",
      "metadata": {
        "id": "view-in-github",
        "colab_type": "text"
      },
      "source": [
        "<a href=\"https://colab.research.google.com/github/Emily-Rouse/cosc470s24/blob/Solutions/Lab3_Regularization_Normalization.ipynb\" target=\"_parent\"><img src=\"https://colab.research.google.com/assets/colab-badge.svg\" alt=\"Open In Colab\"/></a>"
      ]
    },
    {
      "cell_type": "code",
      "execution_count": 1,
      "metadata": {
        "colab": {
          "base_uri": "https://localhost:8080/"
        },
        "id": "UnIsH_Go2GIx",
        "outputId": "55dbe52b-c59f-416e-d5e4-9eebdd28f6e9"
      },
      "outputs": [
        {
          "output_type": "stream",
          "name": "stdout",
          "text": [
            "fatal: destination path 'nn' already exists and is not an empty directory.\n",
            "/content/nn\n"
          ]
        }
      ],
      "source": [
        "!git clone https://github.com/kartoone/DeepLearningPython nn\n",
        "%cd nn"
      ]
    },
    {
      "cell_type": "code",
      "source": [
        "# ***Part 1-Introduce Regularization\n",
        "from network2 import Network, CrossEntropyCost\n",
        "import mnist_loader\n",
        "import numpy as np\n",
        "training_data, validation_data, test_data = mnist_loader.load_data_wrapper ()\n",
        "training_data = list(training_data)\n",
        "test_data = list(test_data) [0:3]\n",
        "\n",
        "# Without Regularization\n",
        "net = Network([784, 30, 10], cost=CrossEntropyCost)\n",
        "net.large_weight_initializer()\n",
        "weights = net.SGD(training_data, 30, 10, 0.5, evaluation_data=test_data, monitor_evaluation_accuracy=True)\n",
        "\n",
        "# With Regularization\n",
        "net2 = Network([784, 30, 10], cost=CrossEntropyCost)\n",
        "net2.large_weight_initializer()\n",
        "weights2 = net2.SGD(training_data, 30, 10, 0.5, lmbda=0.1, evaluation_data=test_data, monitor_evaluation_accuracy=True)\n",
        "\n"
      ],
      "metadata": {
        "colab": {
          "base_uri": "https://localhost:8080/"
        },
        "id": "OA1X6HP52QDB",
        "outputId": "a38f6f17-bc39-478e-c03f-c4657061efc6"
      },
      "execution_count": 2,
      "outputs": [
        {
          "output_type": "stream",
          "name": "stdout",
          "text": [
            "Epoch 0 training complete\n",
            "Appending weights for epoch 0\n",
            "Accuracy on evaluation data: 3 / 3\n",
            "Epoch 1 training complete\n",
            "Appending weights for epoch 1\n",
            "Accuracy on evaluation data: 3 / 3\n",
            "Epoch 2 training complete\n",
            "Appending weights for epoch 2\n",
            "Accuracy on evaluation data: 3 / 3\n",
            "Epoch 3 training complete\n",
            "Appending weights for epoch 3\n",
            "Accuracy on evaluation data: 3 / 3\n",
            "Epoch 4 training complete\n",
            "Appending weights for epoch 4\n",
            "Accuracy on evaluation data: 3 / 3\n",
            "Epoch 5 training complete\n",
            "Appending weights for epoch 5\n",
            "Accuracy on evaluation data: 3 / 3\n",
            "Epoch 6 training complete\n",
            "Appending weights for epoch 6\n",
            "Accuracy on evaluation data: 3 / 3\n",
            "Epoch 7 training complete\n",
            "Appending weights for epoch 7\n",
            "Accuracy on evaluation data: 3 / 3\n",
            "Epoch 8 training complete\n",
            "Appending weights for epoch 8\n",
            "Accuracy on evaluation data: 3 / 3\n",
            "Epoch 9 training complete\n",
            "Appending weights for epoch 9\n",
            "Accuracy on evaluation data: 3 / 3\n",
            "Epoch 10 training complete\n",
            "Appending weights for epoch 10\n",
            "Accuracy on evaluation data: 3 / 3\n",
            "Epoch 11 training complete\n",
            "Appending weights for epoch 11\n",
            "Accuracy on evaluation data: 3 / 3\n",
            "Epoch 12 training complete\n",
            "Appending weights for epoch 12\n",
            "Accuracy on evaluation data: 3 / 3\n",
            "Epoch 13 training complete\n",
            "Appending weights for epoch 13\n",
            "Accuracy on evaluation data: 3 / 3\n",
            "Epoch 14 training complete\n",
            "Appending weights for epoch 14\n",
            "Accuracy on evaluation data: 3 / 3\n",
            "Epoch 15 training complete\n",
            "Appending weights for epoch 15\n",
            "Accuracy on evaluation data: 3 / 3\n",
            "Epoch 16 training complete\n",
            "Appending weights for epoch 16\n",
            "Accuracy on evaluation data: 3 / 3\n",
            "Epoch 17 training complete\n",
            "Appending weights for epoch 17\n",
            "Accuracy on evaluation data: 3 / 3\n",
            "Epoch 18 training complete\n",
            "Appending weights for epoch 18\n",
            "Accuracy on evaluation data: 3 / 3\n",
            "Epoch 19 training complete\n",
            "Appending weights for epoch 19\n",
            "Accuracy on evaluation data: 3 / 3\n",
            "Epoch 20 training complete\n",
            "Appending weights for epoch 20\n",
            "Accuracy on evaluation data: 3 / 3\n",
            "Epoch 21 training complete\n",
            "Appending weights for epoch 21\n",
            "Accuracy on evaluation data: 3 / 3\n",
            "Epoch 22 training complete\n",
            "Appending weights for epoch 22\n",
            "Accuracy on evaluation data: 3 / 3\n",
            "Epoch 23 training complete\n",
            "Appending weights for epoch 23\n",
            "Accuracy on evaluation data: 3 / 3\n",
            "Epoch 24 training complete\n",
            "Appending weights for epoch 24\n",
            "Accuracy on evaluation data: 3 / 3\n",
            "Epoch 25 training complete\n",
            "Appending weights for epoch 25\n",
            "Accuracy on evaluation data: 3 / 3\n",
            "Epoch 26 training complete\n",
            "Appending weights for epoch 26\n",
            "Accuracy on evaluation data: 3 / 3\n",
            "Epoch 27 training complete\n",
            "Appending weights for epoch 27\n",
            "Accuracy on evaluation data: 3 / 3\n",
            "Epoch 28 training complete\n",
            "Appending weights for epoch 28\n",
            "Accuracy on evaluation data: 3 / 3\n",
            "Epoch 29 training complete\n",
            "Appending weights for epoch 29\n",
            "Accuracy on evaluation data: 3 / 3\n",
            "Epoch 0 training complete\n",
            "Appending weights for epoch 0\n",
            "Accuracy on evaluation data: 3 / 3\n",
            "Epoch 1 training complete\n",
            "Appending weights for epoch 1\n",
            "Accuracy on evaluation data: 3 / 3\n",
            "Epoch 2 training complete\n",
            "Appending weights for epoch 2\n",
            "Accuracy on evaluation data: 3 / 3\n",
            "Epoch 3 training complete\n",
            "Appending weights for epoch 3\n",
            "Accuracy on evaluation data: 3 / 3\n",
            "Epoch 4 training complete\n",
            "Appending weights for epoch 4\n",
            "Accuracy on evaluation data: 3 / 3\n",
            "Epoch 5 training complete\n",
            "Appending weights for epoch 5\n",
            "Accuracy on evaluation data: 3 / 3\n",
            "Epoch 6 training complete\n",
            "Appending weights for epoch 6\n",
            "Accuracy on evaluation data: 3 / 3\n",
            "Epoch 7 training complete\n",
            "Appending weights for epoch 7\n",
            "Accuracy on evaluation data: 3 / 3\n",
            "Epoch 8 training complete\n",
            "Appending weights for epoch 8\n",
            "Accuracy on evaluation data: 3 / 3\n",
            "Epoch 9 training complete\n",
            "Appending weights for epoch 9\n",
            "Accuracy on evaluation data: 3 / 3\n",
            "Epoch 10 training complete\n",
            "Appending weights for epoch 10\n",
            "Accuracy on evaluation data: 3 / 3\n",
            "Epoch 11 training complete\n",
            "Appending weights for epoch 11\n",
            "Accuracy on evaluation data: 3 / 3\n",
            "Epoch 12 training complete\n",
            "Appending weights for epoch 12\n",
            "Accuracy on evaluation data: 3 / 3\n",
            "Epoch 13 training complete\n",
            "Appending weights for epoch 13\n",
            "Accuracy on evaluation data: 3 / 3\n",
            "Epoch 14 training complete\n",
            "Appending weights for epoch 14\n",
            "Accuracy on evaluation data: 3 / 3\n",
            "Epoch 15 training complete\n",
            "Appending weights for epoch 15\n",
            "Accuracy on evaluation data: 3 / 3\n",
            "Epoch 16 training complete\n",
            "Appending weights for epoch 16\n",
            "Accuracy on evaluation data: 3 / 3\n",
            "Epoch 17 training complete\n",
            "Appending weights for epoch 17\n",
            "Accuracy on evaluation data: 3 / 3\n",
            "Epoch 18 training complete\n",
            "Appending weights for epoch 18\n",
            "Accuracy on evaluation data: 3 / 3\n",
            "Epoch 19 training complete\n",
            "Appending weights for epoch 19\n",
            "Accuracy on evaluation data: 3 / 3\n",
            "Epoch 20 training complete\n",
            "Appending weights for epoch 20\n",
            "Accuracy on evaluation data: 3 / 3\n",
            "Epoch 21 training complete\n",
            "Appending weights for epoch 21\n",
            "Accuracy on evaluation data: 3 / 3\n",
            "Epoch 22 training complete\n",
            "Appending weights for epoch 22\n",
            "Accuracy on evaluation data: 3 / 3\n",
            "Epoch 23 training complete\n",
            "Appending weights for epoch 23\n",
            "Accuracy on evaluation data: 3 / 3\n",
            "Epoch 24 training complete\n",
            "Appending weights for epoch 24\n",
            "Accuracy on evaluation data: 3 / 3\n",
            "Epoch 25 training complete\n",
            "Appending weights for epoch 25\n",
            "Accuracy on evaluation data: 3 / 3\n",
            "Epoch 26 training complete\n",
            "Appending weights for epoch 26\n",
            "Accuracy on evaluation data: 3 / 3\n",
            "Epoch 27 training complete\n",
            "Appending weights for epoch 27\n",
            "Accuracy on evaluation data: 3 / 3\n",
            "Epoch 28 training complete\n",
            "Appending weights for epoch 28\n",
            "Accuracy on evaluation data: 3 / 3\n",
            "Epoch 29 training complete\n",
            "Appending weights for epoch 29\n",
            "Accuracy on evaluation data: 3 / 3\n"
          ]
        }
      ]
    },
    {
      "cell_type": "code",
      "source": [
        "# Plot the magnitude of the sum of weights after each epoch\n",
        "import matplotlib.pyplot as plt\n",
        "\n",
        "def getweightsum(epoch_weights):\n",
        "  total_weights = []\n",
        "  # Gets the weights for each epoch for first network\n",
        "  for epoch_weight in epoch_weights:\n",
        "    # Add the manitude of each weight for first layer\n",
        "    l1mag = 0\n",
        "    for l1 in epoch_weight[0]:\n",
        "      for l1weight in l1:\n",
        "        l1mag += abs(l1weight)\n",
        "\n",
        "    # Add the manitude of each weight for second layer\n",
        "    l2mag = 0\n",
        "    for l2 in epoch_weight[1]:\n",
        "      for l2weight in l2:\n",
        "        l2mag += abs(l2weight)\n",
        "\n",
        "    total_weights.append(l1mag + l2mag)\n",
        "\n",
        "  return total_weights\n",
        "\n",
        "epoch_weights = weights[4]\n",
        "epoch_weights2 = weights2[4]\n",
        "no_reg_weights = getweightsum(epoch_weights)\n",
        "reg_weights = getweightsum(epoch_weights2)\n",
        "\n",
        "\n",
        "plt.plot(no_reg_weights, label=\"No Regularization\")\n",
        "plt.plot(reg_weights, label=\"Regularization\")\n",
        "plt.title('Magnitude of Weights with and without Regularization')\n",
        "plt.ylabel('Sum of Weights')\n",
        "plt.xlabel('Epochs')\n",
        "plt.legend(loc='upper left')\n",
        "plt.show()"
      ],
      "metadata": {
        "id": "zmOgdbMx2snc",
        "colab": {
          "base_uri": "https://localhost:8080/",
          "height": 472
        },
        "outputId": "12c06e2f-18f2-4dff-f55c-6f00c573d5c2"
      },
      "execution_count": 3,
      "outputs": [
        {
          "output_type": "display_data",
          "data": {
            "text/plain": [
              "<Figure size 640x480 with 1 Axes>"
            ],
            "image/png": "[encoded data removed]"
          },
          "metadata": {}
        }
      ]
    },
    {
      "cell_type": "code",
      "source": [
        "# ***Part 2 - Normalization and Handwritten Digits***\n",
        "from PIL import Image\n",
        "\n",
        "# Function to test how many images of a category the network gets correct\n",
        "def testing(fileprefix):\n",
        "  base_path = 'new_images/'\n",
        "  accuracy = [0] * 10\n",
        "  print(f'Testing {fileprefix} images:')\n",
        "  correct_str = 'Numbers correctly identified: '\n",
        "  incorrect_str = 'Numbers incorrectly identified: '\n",
        "  for i in range(10):\n",
        "    image_path = base_path + fileprefix + str(i) + '.png'\n",
        "    image = Image.open(image_path)\n",
        "\n",
        "    # Convert the image to a numpy array\n",
        "    image_array = np.array(image)/255.0\n",
        "\n",
        "    # Test image\n",
        "    result = np.argmax(net2.feedforward(np.reshape(image_array, (784,1))))\n",
        "    if result == i:\n",
        "      accuracy[i] = 1\n",
        "      correct_str += str(i) + ' '\n",
        "    else:\n",
        "      incorrect_str += str(i) + ' '\n",
        "  print(correct_str)\n",
        "  print(incorrect_str)\n",
        "  print()\n",
        "  return accuracy\n",
        "\n",
        "# Test how many the network gets correct\n",
        "# Accuracy will be stored in 3 arrays\n",
        "good_accuracy = testing('good')\n",
        "large_accuracy = testing('large')\n",
        "small_accuracy = testing('small')\n",
        "\n",
        "# Chart the accuracy for each\n",
        "x = np.array(['Good','Large','Small'])\n",
        "y = np.array([sum(good_accuracy), sum(large_accuracy), sum(small_accuracy)])\n",
        "plt.bar(x,y)\n",
        "plt.title('Accuracy for Handwritten Digits')\n",
        "plt.ylabel('Accuracy')\n",
        "plt.xlabel('Number correct')\n",
        "plt.show()"
      ],
      "metadata": {
        "colab": {
          "base_uri": "https://localhost:8080/",
          "height": 400
        },
        "id": "yOXOzSmmmdmK",
        "outputId": "eae8a8b0-c428-428f-92ae-b6ef03ab840c"
      },
      "execution_count": 4,
      "outputs": [
        {
          "output_type": "stream",
          "name": "stdout",
          "text": [
            "Testing good images:\n"
          ]
        },
        {
          "output_type": "error",
          "ename": "FileNotFoundError",
          "evalue": "[Errno 2] No such file or directory: 'new_images/good0.png'",
          "traceback": [
            "\u001b[0;31m---------------------------------------------------------------------------\u001b[0m",
            "\u001b[0;31mFileNotFoundError\u001b[0m                         Traceback (most recent call last)",
            "\u001b[0;32m<ipython-input-4-0391cff73c8a>\u001b[0m in \u001b[0;36m<cell line: 32>\u001b[0;34m()\u001b[0m\n\u001b[1;32m     30\u001b[0m \u001b[0;31m# Test how many the network gets correct\u001b[0m\u001b[0;34m\u001b[0m\u001b[0;34m\u001b[0m\u001b[0m\n\u001b[1;32m     31\u001b[0m \u001b[0;31m# Accuracy will be stored in 3 arrays\u001b[0m\u001b[0;34m\u001b[0m\u001b[0;34m\u001b[0m\u001b[0m\n\u001b[0;32m---> 32\u001b[0;31m \u001b[0mgood_accuracy\u001b[0m \u001b[0;34m=\u001b[0m \u001b[0mtesting\u001b[0m\u001b[0;34m(\u001b[0m\u001b[0;34m'good'\u001b[0m\u001b[0;34m)\u001b[0m\u001b[0;34m\u001b[0m\u001b[0;34m\u001b[0m\u001b[0m\n\u001b[0m\u001b[1;32m     33\u001b[0m \u001b[0mlarge_accuracy\u001b[0m \u001b[0;34m=\u001b[0m \u001b[0mtesting\u001b[0m\u001b[0;34m(\u001b[0m\u001b[0;34m'large'\u001b[0m\u001b[0;34m)\u001b[0m\u001b[0;34m\u001b[0m\u001b[0;34m\u001b[0m\u001b[0m\n\u001b[1;32m     34\u001b[0m \u001b[0msmall_accuracy\u001b[0m \u001b[0;34m=\u001b[0m \u001b[0mtesting\u001b[0m\u001b[0;34m(\u001b[0m\u001b[0;34m'small'\u001b[0m\u001b[0;34m)\u001b[0m\u001b[0;34m\u001b[0m\u001b[0;34m\u001b[0m\u001b[0m\n",
            "\u001b[0;32m<ipython-input-4-0391cff73c8a>\u001b[0m in \u001b[0;36mtesting\u001b[0;34m(fileprefix)\u001b[0m\n\u001b[1;32m     11\u001b[0m   \u001b[0;32mfor\u001b[0m \u001b[0mi\u001b[0m \u001b[0;32min\u001b[0m \u001b[0mrange\u001b[0m\u001b[0;34m(\u001b[0m\u001b[0;36m10\u001b[0m\u001b[0;34m)\u001b[0m\u001b[0;34m:\u001b[0m\u001b[0;34m\u001b[0m\u001b[0;34m\u001b[0m\u001b[0m\n\u001b[1;32m     12\u001b[0m     \u001b[0mimage_path\u001b[0m \u001b[0;34m=\u001b[0m \u001b[0mbase_path\u001b[0m \u001b[0;34m+\u001b[0m \u001b[0mfileprefix\u001b[0m \u001b[0;34m+\u001b[0m \u001b[0mstr\u001b[0m\u001b[0;34m(\u001b[0m\u001b[0mi\u001b[0m\u001b[0;34m)\u001b[0m \u001b[0;34m+\u001b[0m \u001b[0;34m'.png'\u001b[0m\u001b[0;34m\u001b[0m\u001b[0;34m\u001b[0m\u001b[0m\n\u001b[0;32m---> 13\u001b[0;31m     \u001b[0mimage\u001b[0m \u001b[0;34m=\u001b[0m \u001b[0mImage\u001b[0m\u001b[0;34m.\u001b[0m\u001b[0mopen\u001b[0m\u001b[0;34m(\u001b[0m\u001b[0mimage_path\u001b[0m\u001b[0;34m)\u001b[0m\u001b[0;34m\u001b[0m\u001b[0;34m\u001b[0m\u001b[0m\n\u001b[0m\u001b[1;32m     14\u001b[0m \u001b[0;34m\u001b[0m\u001b[0m\n\u001b[1;32m     15\u001b[0m     \u001b[0;31m# Convert the image to a numpy array\u001b[0m\u001b[0;34m\u001b[0m\u001b[0;34m\u001b[0m\u001b[0m\n",
            "\u001b[0;32m/usr/local/lib/python3.10/dist-packages/PIL/Image.py\u001b[0m in \u001b[0;36mopen\u001b[0;34m(fp, mode, formats)\u001b[0m\n\u001b[1;32m   3225\u001b[0m \u001b[0;34m\u001b[0m\u001b[0m\n\u001b[1;32m   3226\u001b[0m     \u001b[0;32mif\u001b[0m \u001b[0mfilename\u001b[0m\u001b[0;34m:\u001b[0m\u001b[0;34m\u001b[0m\u001b[0;34m\u001b[0m\u001b[0m\n\u001b[0;32m-> 3227\u001b[0;31m         \u001b[0mfp\u001b[0m \u001b[0;34m=\u001b[0m \u001b[0mbuiltins\u001b[0m\u001b[0;34m.\u001b[0m\u001b[0mopen\u001b[0m\u001b[0;34m(\u001b[0m\u001b[0mfilename\u001b[0m\u001b[0;34m,\u001b[0m \u001b[0;34m\"rb\"\u001b[0m\u001b[0;34m)\u001b[0m\u001b[0;34m\u001b[0m\u001b[0;34m\u001b[0m\u001b[0m\n\u001b[0m\u001b[1;32m   3228\u001b[0m         \u001b[0mexclusive_fp\u001b[0m \u001b[0;34m=\u001b[0m \u001b[0;32mTrue\u001b[0m\u001b[0;34m\u001b[0m\u001b[0;34m\u001b[0m\u001b[0m\n\u001b[1;32m   3229\u001b[0m \u001b[0;34m\u001b[0m\u001b[0m\n",
            "\u001b[0;31mFileNotFoundError\u001b[0m: [Errno 2] No such file or directory: 'new_images/good0.png'"
          ]
        }
      ]
    },
    {
      "cell_type": "code",
      "source": [
        "# ***Part 3 - Increased number of training images\n",
        "# Expand the number of images\n",
        "import expand_mnist\n",
        "import mnist_loader\n",
        "import numpy as np\n",
        "training_data, validation_data, test_data = mnist_loader.load_data_wrapper(\"mnist_expanded.pkl.gz\")\n",
        "training_data=list(training_data)\n",
        "test_data = list(test_data)\n",
        "print(len(training_data))"
      ],
      "metadata": {
        "id": "k4HTuFFsx_Rg"
      },
      "execution_count": null,
      "outputs": []
    },
    {
      "cell_type": "code",
      "source": [
        "# Retrain the network\n",
        "net = Network([784, 30, 10], cost=CrossEntropyCost)\n",
        "net.large_weight_initializer()\n",
        "weights = net.SGD(training_data, 30, 10, 0.5, lmbda=0.1, evaluation_data=test_data, monitor_evaluation_accuracy=True)"
      ],
      "metadata": {
        "id": "4e0Cc3DTy8rK"
      },
      "execution_count": null,
      "outputs": []
    },
    {
      "cell_type": "code",
      "source": [
        "# Function to test how many images of a category the network gets correct\n",
        "def testing(fileprefix):\n",
        "  base_path = 'new_images/'\n",
        "  accuracy = [0] * 10\n",
        "  print(f'Testing {fileprefix} images:')\n",
        "  correct_str = 'Numbers correctly identified: '\n",
        "  incorrect_str = 'Numbers incorrectly identified: '\n",
        "  for i in range(10):\n",
        "    image_path = base_path + fileprefix + str(i) + '.png'\n",
        "    image = Image.open(image_path)\n",
        "\n",
        "    # Convert the image to a numpy array\n",
        "    image_array = np.array(image)/255.0\n",
        "\n",
        "    # Test image\n",
        "    result = np.argmax(net.feedforward(np.reshape(image_array, (784,1))))\n",
        "    if result == i:\n",
        "      accuracy[i] = 1\n",
        "      correct_str += str(i) + ' '\n",
        "    else:\n",
        "      incorrect_str += str(i) + ' '\n",
        "  print(correct_str)\n",
        "  print(incorrect_str)\n",
        "  print()\n",
        "  return accuracy\n",
        "\n",
        "# Test how many the network gets correct\n",
        "# Accuracy will be stored in 3 arrays\n",
        "good_accuracy = testing('good')\n",
        "large_accuracy = testing('large')\n",
        "small_accuracy = testing('small')\n",
        "\n",
        "# Chart the accuracy for each\n",
        "x = np.array(['Good','Large','Small'])\n",
        "y = np.array([sum(good_accuracy), sum(large_accuracy), sum(small_accuracy)])\n",
        "plt.bar(x,y)\n",
        "plt.title('Accuracy for Handwritten Digits')\n",
        "plt.ylabel('Accuracy')\n",
        "plt.xlabel('Number correct')\n",
        "plt.show()"
      ],
      "metadata": {
        "id": "ZYt0Fq4lzEUp"
      },
      "execution_count": null,
      "outputs": []
    }
  ]
}